{
  "nbformat": 4,
  "nbformat_minor": 0,
  "metadata": {
    "colab": {
      "name": "HeartClassificationModel.ipynb",
      "provenance": [],
      "collapsed_sections": [
        "aIO-4JoHs3ta",
        "H0-pXeYUs9Dg",
        "FjjiqCAbuDj0",
        "as4YogCDtzZY",
        "aoVGE8SW0IO5",
        "7VpPA_OINy9g",
        "GD2iIXzS3NL0",
        "HYU8Jhex4yBW",
        "iaL149Xg6oqv",
        "lrc2fjtN70Su",
        "VO55zXxRNU52",
        "70fP7Wm5dOvu",
        "pMLQ5H_8M0RT"
      ]
    },
    "kernelspec": {
      "name": "python3",
      "display_name": "Python 3"
    },
    "language_info": {
      "name": "python"
    }
  },
  "cells": [
    {
      "cell_type": "markdown",
      "metadata": {
        "id": "HjCJG4qMS6ms"
      },
      "source": [
        "[![Open In Colab](https://colab.research.google.com/assets/colab-badge.svg)](https://colab.research.google.com/drive/1hR92YKQZ6_PWoeOEH8TWe9MjPbFx5FAr)"
      ]
    },
    {
      "cell_type": "markdown",
      "metadata": {
        "id": "aIO-4JoHs3ta"
      },
      "source": [
        "#$Imports$"
      ]
    },
    {
      "cell_type": "code",
      "metadata": {
        "id": "TJttyDf-suEt"
      },
      "source": [
        "# Common\n",
        "import numpy as np\n",
        "import pandas as pd\n",
        "# Spliting\n",
        "from sklearn.model_selection import train_test_split\n",
        "# Feture Selection\n",
        "from sklearn.ensemble import RandomForestClassifier\n",
        "# Visualization\n",
        "import matplotlib.pyplot as plt\n",
        "# Models\n",
        "from sklearn.svm import SVC\n",
        "from sklearn.ensemble import RandomForestClassifier, AdaBoostClassifier\n",
        "import xgboost\n",
        "from sklearn.tree import DecisionTreeClassifier\n",
        "from sklearn.cluster import KMeans\n",
        "from sklearn.mixture import GaussianMixture\n",
        "# Evaluation\n",
        "from sklearn.metrics import confusion_matrix, f1_score\n",
        "# Tuning\n",
        "from sklearn.model_selection import GridSearchCV\n",
        "# Scaler\n",
        "from sklearn.preprocessing import StandardScaler"
      ],
      "execution_count": null,
      "outputs": []
    },
    {
      "cell_type": "markdown",
      "metadata": {
        "id": "H0-pXeYUs9Dg"
      },
      "source": [
        "#$Data$"
      ]
    },
    {
      "cell_type": "code",
      "metadata": {
        "colab": {
          "base_uri": "https://localhost:8080/"
        },
        "id": "5hbdusaQs8rn",
        "outputId": "1760c925-1946-4b8d-bf19-f9a9e3c2b43f"
      },
      "source": [
        "df = pd.read_csv(\"heart.csv\")\n",
        "df.head()"
      ],
      "execution_count": null,
      "outputs": [
        {
          "output_type": "execute_result",
          "data": {
            "text/html": [
              "<div>\n",
              "<style scoped>\n",
              "    .dataframe tbody tr th:only-of-type {\n",
              "        vertical-align: middle;\n",
              "    }\n",
              "\n",
              "    .dataframe tbody tr th {\n",
              "        vertical-align: top;\n",
              "    }\n",
              "\n",
              "    .dataframe thead th {\n",
              "        text-align: right;\n",
              "    }\n",
              "</style>\n",
              "<table border=\"1\" class=\"dataframe\">\n",
              "  <thead>\n",
              "    <tr style=\"text-align: right;\">\n",
              "      <th></th>\n",
              "      <th>age</th>\n",
              "      <th>sex</th>\n",
              "      <th>cp</th>\n",
              "      <th>trestbps</th>\n",
              "      <th>chol</th>\n",
              "      <th>fbs</th>\n",
              "      <th>restecg</th>\n",
              "      <th>thalach</th>\n",
              "      <th>exang</th>\n",
              "      <th>oldpeak</th>\n",
              "      <th>slope</th>\n",
              "      <th>ca</th>\n",
              "      <th>thal</th>\n",
              "      <th>target</th>\n",
              "    </tr>\n",
              "  </thead>\n",
              "  <tbody>\n",
              "    <tr>\n",
              "      <th>0</th>\n",
              "      <td>63</td>\n",
              "      <td>1</td>\n",
              "      <td>3</td>\n",
              "      <td>145</td>\n",
              "      <td>233</td>\n",
              "      <td>1</td>\n",
              "      <td>0</td>\n",
              "      <td>150</td>\n",
              "      <td>0</td>\n",
              "      <td>2.3</td>\n",
              "      <td>0</td>\n",
              "      <td>0</td>\n",
              "      <td>1</td>\n",
              "      <td>1</td>\n",
              "    </tr>\n",
              "    <tr>\n",
              "      <th>1</th>\n",
              "      <td>37</td>\n",
              "      <td>1</td>\n",
              "      <td>2</td>\n",
              "      <td>130</td>\n",
              "      <td>250</td>\n",
              "      <td>0</td>\n",
              "      <td>1</td>\n",
              "      <td>187</td>\n",
              "      <td>0</td>\n",
              "      <td>3.5</td>\n",
              "      <td>0</td>\n",
              "      <td>0</td>\n",
              "      <td>2</td>\n",
              "      <td>1</td>\n",
              "    </tr>\n",
              "    <tr>\n",
              "      <th>2</th>\n",
              "      <td>41</td>\n",
              "      <td>0</td>\n",
              "      <td>1</td>\n",
              "      <td>130</td>\n",
              "      <td>204</td>\n",
              "      <td>0</td>\n",
              "      <td>0</td>\n",
              "      <td>172</td>\n",
              "      <td>0</td>\n",
              "      <td>1.4</td>\n",
              "      <td>2</td>\n",
              "      <td>0</td>\n",
              "      <td>2</td>\n",
              "      <td>1</td>\n",
              "    </tr>\n",
              "    <tr>\n",
              "      <th>3</th>\n",
              "      <td>56</td>\n",
              "      <td>1</td>\n",
              "      <td>1</td>\n",
              "      <td>120</td>\n",
              "      <td>236</td>\n",
              "      <td>0</td>\n",
              "      <td>1</td>\n",
              "      <td>178</td>\n",
              "      <td>0</td>\n",
              "      <td>0.8</td>\n",
              "      <td>2</td>\n",
              "      <td>0</td>\n",
              "      <td>2</td>\n",
              "      <td>1</td>\n",
              "    </tr>\n",
              "    <tr>\n",
              "      <th>4</th>\n",
              "      <td>57</td>\n",
              "      <td>0</td>\n",
              "      <td>0</td>\n",
              "      <td>120</td>\n",
              "      <td>354</td>\n",
              "      <td>0</td>\n",
              "      <td>1</td>\n",
              "      <td>163</td>\n",
              "      <td>1</td>\n",
              "      <td>0.6</td>\n",
              "      <td>2</td>\n",
              "      <td>0</td>\n",
              "      <td>2</td>\n",
              "      <td>1</td>\n",
              "    </tr>\n",
              "  </tbody>\n",
              "</table>\n",
              "</div>"
            ],
            "text/plain": [
              "   age  sex  cp  trestbps  chol  fbs  ...  exang  oldpeak  slope  ca  thal  target\n",
              "0   63    1   3       145   233    1  ...      0      2.3      0   0     1       1\n",
              "1   37    1   2       130   250    0  ...      0      3.5      0   0     2       1\n",
              "2   41    0   1       130   204    0  ...      0      1.4      2   0     2       1\n",
              "3   56    1   1       120   236    0  ...      0      0.8      2   0     2       1\n",
              "4   57    0   0       120   354    0  ...      1      0.6      2   0     2       1\n",
              "\n",
              "[5 rows x 14 columns]"
            ]
          },
          "metadata": {},
          "execution_count": 156
        }
      ]
    },
    {
      "cell_type": "markdown",
      "metadata": {
        "id": "b39KpG9gtKsm"
      },
      "source": [
        "Ahhh great!!, the data is good as it does not have categorical values. Let's check for the null values."
      ]
    },
    {
      "cell_type": "code",
      "metadata": {
        "colab": {
          "base_uri": "https://localhost:8080/"
        },
        "id": "fqXvhaJrtBZ9",
        "outputId": "edc041c9-3b2b-44aa-99ed-e869b5b0d43c"
      },
      "source": [
        "df.isnull().sum()"
      ],
      "execution_count": null,
      "outputs": [
        {
          "output_type": "execute_result",
          "data": {
            "text/plain": [
              "age         0\n",
              "sex         0\n",
              "cp          0\n",
              "trestbps    0\n",
              "chol        0\n",
              "fbs         0\n",
              "restecg     0\n",
              "thalach     0\n",
              "exang       0\n",
              "oldpeak     0\n",
              "slope       0\n",
              "ca          0\n",
              "thal        0\n",
              "target      0\n",
              "dtype: int64"
            ]
          },
          "metadata": {},
          "execution_count": 157
        }
      ]
    },
    {
      "cell_type": "markdown",
      "metadata": {
        "id": "0yKuaPyCtYSB"
      },
      "source": [
        "$Great!!$ There are `no null values`. I think some of the `features` like the `\"sex\"` does `not affect` the `data`, so in `order` to `check` it let's do `feature selection`."
      ]
    },
    {
      "cell_type": "code",
      "metadata": {
        "colab": {
          "base_uri": "https://localhost:8080/"
        },
        "id": "5_cEkeKeuJeN",
        "outputId": "51bc279a-a49a-41c3-8eb2-5ad7214c62eb"
      },
      "source": [
        "X_data = df.iloc[:,:-1]\n",
        "Y_data = df['target']\n",
        "print(f\" CD : {np.bincount(Y_data)}\")"
      ],
      "execution_count": null,
      "outputs": [
        {
          "output_type": "stream",
          "name": "stdout",
          "text": [
            " CD : [138 165]\n"
          ]
        }
      ]
    },
    {
      "cell_type": "markdown",
      "metadata": {
        "id": "oeppCVhwudDy"
      },
      "source": [
        "There is `not` much `Class Imbalance`. Hence, `no need` of `Resampling or Stratifying`."
      ]
    },
    {
      "cell_type": "markdown",
      "metadata": {
        "id": "FjjiqCAbuDj0"
      },
      "source": [
        "#$Spliting$ $Data$"
      ]
    },
    {
      "cell_type": "code",
      "metadata": {
        "id": "shkhldORuGa3"
      },
      "source": [
        "X_train,X_test,Y_train,Y_test = train_test_split(X_data,Y_data,test_size=0.2)"
      ],
      "execution_count": null,
      "outputs": []
    },
    {
      "cell_type": "code",
      "metadata": {
        "colab": {
          "base_uri": "https://localhost:8080/"
        },
        "id": "uVex8jPuuGYh",
        "outputId": "d93e60fb-cff9-41ab-bd33-90dc08165d1b"
      },
      "source": [
        "print(f\"X Train : {X_train.shape}\")\n",
        "print(f\"Y Train : {Y_train.shape}\")\n",
        "print(f\"X Test : {X_test.shape}\")\n",
        "print(f\"Y Test : {Y_test.shape}\")"
      ],
      "execution_count": null,
      "outputs": [
        {
          "output_type": "stream",
          "name": "stdout",
          "text": [
            "X Train : (242, 13)\n",
            "Y Train : (242,)\n",
            "X Test : (61, 13)\n",
            "Y Test : (61,)\n"
          ]
        }
      ]
    },
    {
      "cell_type": "markdown",
      "metadata": {
        "id": "NCpoTwsuvUCT"
      },
      "source": [
        "Yeah!!, good let's move to feature selection/importnace."
      ]
    },
    {
      "cell_type": "markdown",
      "metadata": {
        "id": "as4YogCDtzZY"
      },
      "source": [
        "#$Feature$ $Importance$"
      ]
    },
    {
      "cell_type": "code",
      "metadata": {
        "id": "bx6uKWKltoR6"
      },
      "source": [
        "RFC = RandomForestClassifier().fit(X_train,Y_train)\n",
        "feature_imp_ = RFC.feature_importances_"
      ],
      "execution_count": null,
      "outputs": []
    },
    {
      "cell_type": "code",
      "metadata": {
        "colab": {
          "base_uri": "https://localhost:8080/"
        },
        "id": "ni3bWJcvvhkK",
        "outputId": "b24932d6-de06-4c5e-b883-6a9ab4b49249"
      },
      "source": [
        "X_cols = X_data.columns\n",
        "X_cols"
      ],
      "execution_count": null,
      "outputs": [
        {
          "output_type": "execute_result",
          "data": {
            "text/plain": [
              "Index(['age', 'sex', 'cp', 'trestbps', 'chol', 'fbs', 'restecg', 'thalach',\n",
              "       'exang', 'oldpeak', 'slope', 'ca', 'thal'],\n",
              "      dtype='object')"
            ]
          },
          "metadata": {},
          "execution_count": 162
        }
      ]
    },
    {
      "cell_type": "code",
      "metadata": {
        "colab": {
          "base_uri": "https://localhost:8080/"
        },
        "id": "3I1Q7i2mvtW4",
        "outputId": "85a37aeb-cfe0-4917-cf35-df36ad67e321"
      },
      "source": [
        "plt.figure(figsize=(10,8))\n",
        "plt.bar(X_cols,feature_imp_,color=\"steelblue\",label=\"Features\")\n",
        "plt.bar(X_cols[np.where(feature_imp_==feature_imp_.max())],feature_imp_.max(),color=\"green\",label=\"Max\")\n",
        "plt.bar(X_cols[np.where(feature_imp_==feature_imp_.min())],feature_imp_.min(),color=\"purple\",label=\"Min\")\n",
        "plt.xticks(rotation=70)\n",
        "plt.legend()\n",
        "plt.ylabel(\"Importnace Score\")\n",
        "plt.title(\"Feature Importnace\")\n",
        "plt.show()"
      ],
      "execution_count": null,
      "outputs": [
        {
          "output_type": "display_data",
          "data": {
            "image/png": "[encoded data removed]",
            "text/plain": [
              "<Figure size 720x576 with 1 Axes>"
            ]
          },
          "metadata": {
            "needs_background": "light"
          }
        }
      ]
    },
    {
      "cell_type": "markdown",
      "metadata": {
        "id": "OfTlmuJbw-VA"
      },
      "source": [
        "As we can see $\"fbs\"$ and $\"restecg\"$ are `not that important` compare to others, we can `remove` them from the `dataset`. This will `save training time` and `model` will `generalize better`. But this is a `small dataset` that's why I am `not removing it`."
      ]
    },
    {
      "cell_type": "markdown",
      "metadata": {
        "id": "aoVGE8SW0IO5"
      },
      "source": [
        "#$Models$"
      ]
    },
    {
      "cell_type": "markdown",
      "metadata": {
        "id": "7VpPA_OINy9g"
      },
      "source": [
        "##Function"
      ]
    },
    {
      "cell_type": "code",
      "metadata": {
        "id": "cLnHGV4ON1Dx"
      },
      "source": [
        "def evaluation(model):\n",
        "  y_pred_model = model.predict(X_test)\n",
        "  print(f\"Accuracy : {model.score(X_test,Y_test)}\")\n",
        "  print(f\"CM : \\n {confusion_matrix(Y_test,y_pred_model)}\")\n",
        "  print(f\"F1 Score  : {f1_score(Y_test,y_pred_model)}\")"
      ],
      "execution_count": null,
      "outputs": []
    },
    {
      "cell_type": "markdown",
      "metadata": {
        "id": "GD2iIXzS3NL0"
      },
      "source": [
        "##$SVC$"
      ]
    },
    {
      "cell_type": "code",
      "metadata": {
        "colab": {
          "base_uri": "https://localhost:8080/"
        },
        "id": "yL2AtPtWxmOO",
        "outputId": "c4f2615f-1460-46ba-d50b-c9af14db3e0e"
      },
      "source": [
        "vector_machine = SVC()\n",
        "vector_machine.fit(X_train,Y_train)\n",
        "evaluation(vector_machine)"
      ],
      "execution_count": null,
      "outputs": [
        {
          "output_type": "stream",
          "name": "stdout",
          "text": [
            "Accuracy : 0.6721311475409836\n",
            "CM : \n",
            " [[14 10]\n",
            " [10 27]]\n",
            "F1 Score  : 0.7297297297297297\n"
          ]
        }
      ]
    },
    {
      "cell_type": "markdown",
      "metadata": {
        "id": "CtX3sqMM3LE-"
      },
      "source": [
        "Let's Try tuning it"
      ]
    },
    {
      "cell_type": "code",
      "metadata": {
        "colab": {
          "base_uri": "https://localhost:8080/"
        },
        "id": "hmgcmVit1FLD",
        "outputId": "31e3320a-1831-4443-d298-06c46e5265d7"
      },
      "source": [
        "gs_svc = GridSearchCV(vector_machine,param_grid={\"C\":[0.001,0.01,0.1,1.0,10.0,100.0]},cv=10)\n",
        "gs_svc.fit(X_train,Y_train)"
      ],
      "execution_count": null,
      "outputs": [
        {
          "output_type": "execute_result",
          "data": {
            "text/plain": [
              "GridSearchCV(cv=10, error_score=nan,\n",
              "             estimator=SVC(C=1.0, break_ties=False, cache_size=200,\n",
              "                           class_weight=None, coef0=0.0,\n",
              "                           decision_function_shape='ovr', degree=3,\n",
              "                           gamma='scale', kernel='rbf', max_iter=-1,\n",
              "                           probability=False, random_state=None, shrinking=True,\n",
              "                           tol=0.001, verbose=False),\n",
              "             iid='deprecated', n_jobs=None,\n",
              "             param_grid={'C': [0.001, 0.01, 0.1, 1.0, 10.0, 100.0]},\n",
              "             pre_dispatch='2*n_jobs', refit=True, return_train_score=False,\n",
              "             scoring=None, verbose=0)"
            ]
          },
          "metadata": {},
          "execution_count": 166
        }
      ]
    },
    {
      "cell_type": "code",
      "metadata": {
        "colab": {
          "base_uri": "https://localhost:8080/"
        },
        "id": "motZAtUt3mKP",
        "outputId": "9546a661-b19f-46b9-d49c-2a5107efb8f0"
      },
      "source": [
        "gs_svc.best_params_"
      ],
      "execution_count": null,
      "outputs": [
        {
          "output_type": "execute_result",
          "data": {
            "text/plain": [
              "{'C': 100.0}"
            ]
          },
          "metadata": {},
          "execution_count": 167
        }
      ]
    },
    {
      "cell_type": "code",
      "metadata": {
        "colab": {
          "base_uri": "https://localhost:8080/"
        },
        "id": "D31elxZF3xfg",
        "outputId": "2f66bbce-5c55-4714-95e0-2a0703b7d965"
      },
      "source": [
        "best_svc = gs_svc.best_estimator_\n",
        "best_svc.fit(X_train,Y_train)\n",
        "evaluation(best_svc)"
      ],
      "execution_count": null,
      "outputs": [
        {
          "output_type": "stream",
          "name": "stdout",
          "text": [
            "Accuracy : 0.7540983606557377\n",
            "CM : \n",
            " [[19  5]\n",
            " [10 27]]\n",
            "F1 Score  : 0.7826086956521738\n"
          ]
        }
      ]
    },
    {
      "cell_type": "markdown",
      "metadata": {
        "id": "fjQRQZ2G39SQ"
      },
      "source": [
        "A little better not much. Scaling the input may help."
      ]
    },
    {
      "cell_type": "code",
      "metadata": {
        "id": "h-F1VChh34Gr"
      },
      "source": [
        "Sc = StandardScaler()\n",
        "X_train_sc, X_test_sc = Sc.fit_transform(X_train), Sc.transform(X_test) "
      ],
      "execution_count": null,
      "outputs": []
    },
    {
      "cell_type": "code",
      "metadata": {
        "colab": {
          "base_uri": "https://localhost:8080/"
        },
        "id": "5nqlyXPc4ceg",
        "outputId": "d36894f7-53fc-4588-e945-57c5207ded6f"
      },
      "source": [
        "scaled_svc = gs_svc.best_estimator_\n",
        "scaled_svc.fit(X_train_sc,Y_train)\n",
        "evaluation(scaled_svc)"
      ],
      "execution_count": null,
      "outputs": [
        {
          "output_type": "stream",
          "name": "stdout",
          "text": [
            "Accuracy : 0.6065573770491803\n",
            "CM : \n",
            " [[ 0 24]\n",
            " [ 0 37]]\n",
            "F1 Score  : 0.7551020408163265\n"
          ]
        }
      ]
    },
    {
      "cell_type": "markdown",
      "metadata": {
        "id": "fCYFTWkA4pa_"
      },
      "source": [
        "Nahh!!!. Let's keep the previous version only."
      ]
    },
    {
      "cell_type": "markdown",
      "metadata": {
        "id": "HYU8Jhex4yBW"
      },
      "source": [
        "##$RandomForest$"
      ]
    },
    {
      "cell_type": "code",
      "metadata": {
        "colab": {
          "base_uri": "https://localhost:8080/"
        },
        "id": "SU_Lk-JJ4o88",
        "outputId": "41cb06c0-6cdf-4764-ee74-a2f5117b2845"
      },
      "source": [
        "RFC = RandomForestClassifier(max_depth=10)\n",
        "RFC.fit(X_train,Y_train)\n",
        "evaluation(RFC)"
      ],
      "execution_count": null,
      "outputs": [
        {
          "output_type": "stream",
          "name": "stdout",
          "text": [
            "Accuracy : 0.819672131147541\n",
            "CM : \n",
            " [[21  3]\n",
            " [ 8 29]]\n",
            "F1 Score  : 0.8405797101449275\n"
          ]
        }
      ]
    },
    {
      "cell_type": "markdown",
      "metadata": {
        "id": "Lsc7j2Dz5L2A"
      },
      "source": [
        "My expectations was more than the results"
      ]
    },
    {
      "cell_type": "code",
      "metadata": {
        "colab": {
          "base_uri": "https://localhost:8080/"
        },
        "id": "ytH28Whx5kk1",
        "outputId": "ec396644-0075-43e6-9b45-9fd4c70c6bc7"
      },
      "source": [
        "gs_rfc = GridSearchCV(RFC,param_grid={\"max_depth\":[10,30,50,70,100],\"n_estimators\":[100,200,300,500]},cv=5)\n",
        "gs_rfc.fit(X_train,Y_train)"
      ],
      "execution_count": null,
      "outputs": [
        {
          "output_type": "execute_result",
          "data": {
            "text/plain": [
              "GridSearchCV(cv=5, error_score=nan,\n",
              "             estimator=RandomForestClassifier(bootstrap=True, ccp_alpha=0.0,\n",
              "                                              class_weight=None,\n",
              "                                              criterion='gini', max_depth=10,\n",
              "                                              max_features='auto',\n",
              "                                              max_leaf_nodes=None,\n",
              "                                              max_samples=None,\n",
              "                                              min_impurity_decrease=0.0,\n",
              "                                              min_impurity_split=None,\n",
              "                                              min_samples_leaf=1,\n",
              "                                              min_samples_split=2,\n",
              "                                              min_weight_fraction_leaf=0.0,\n",
              "                                              n_estimators=100, n_jobs=None,\n",
              "                                              oob_score=False,\n",
              "                                              random_state=None, verbose=0,\n",
              "                                              warm_start=False),\n",
              "             iid='deprecated', n_jobs=None,\n",
              "             param_grid={'max_depth': [10, 30, 50, 70, 100],\n",
              "                         'n_estimators': [100, 200, 300, 500]},\n",
              "             pre_dispatch='2*n_jobs', refit=True, return_train_score=False,\n",
              "             scoring=None, verbose=0)"
            ]
          },
          "metadata": {},
          "execution_count": 172
        }
      ]
    },
    {
      "cell_type": "code",
      "metadata": {
        "colab": {
          "base_uri": "https://localhost:8080/"
        },
        "id": "yi6fipH16EuU",
        "outputId": "65d3b749-1077-468d-de15-1d3c3a8b4296"
      },
      "source": [
        "gs_rfc.best_params_"
      ],
      "execution_count": null,
      "outputs": [
        {
          "output_type": "execute_result",
          "data": {
            "text/plain": [
              "{'max_depth': 50, 'n_estimators': 100}"
            ]
          },
          "metadata": {},
          "execution_count": 173
        }
      ]
    },
    {
      "cell_type": "code",
      "metadata": {
        "colab": {
          "base_uri": "https://localhost:8080/"
        },
        "id": "P0FC_pmL6Riu",
        "outputId": "074829a1-4b0f-4fbf-9136-b7d4afe2abb6"
      },
      "source": [
        "best_rfc = gs_rfc.best_estimator_\n",
        "best_rfc.fit(X_train,Y_train)\n",
        "evaluation(best_rfc)"
      ],
      "execution_count": null,
      "outputs": [
        {
          "output_type": "stream",
          "name": "stdout",
          "text": [
            "Accuracy : 0.819672131147541\n",
            "CM : \n",
            " [[20  4]\n",
            " [ 7 30]]\n",
            "F1 Score  : 0.8450704225352113\n"
          ]
        }
      ]
    },
    {
      "cell_type": "markdown",
      "metadata": {
        "id": "MPRRi9aw6hO8"
      },
      "source": [
        "This time too, let's keep the normal one."
      ]
    },
    {
      "cell_type": "markdown",
      "metadata": {
        "id": "iaL149Xg6oqv"
      },
      "source": [
        "##$AdaBoost$"
      ]
    },
    {
      "cell_type": "code",
      "metadata": {
        "colab": {
          "base_uri": "https://localhost:8080/"
        },
        "id": "m4FvDm9O6YBi",
        "outputId": "f56b92ac-6816-49c6-d823-f42552104547"
      },
      "source": [
        "AdaBC = AdaBoostClassifier(base_estimator=DecisionTreeClassifier(max_depth=10),n_estimators=100,learning_rate=1.0)\n",
        "AdaBC.fit(X_train,Y_train)\n",
        "evaluation(AdaBC)"
      ],
      "execution_count": null,
      "outputs": [
        {
          "output_type": "stream",
          "name": "stdout",
          "text": [
            "Accuracy : 0.7704918032786885\n",
            "CM : \n",
            " [[22  2]\n",
            " [12 25]]\n",
            "F1 Score  : 0.7812500000000001\n"
          ]
        }
      ]
    },
    {
      "cell_type": "code",
      "metadata": {
        "colab": {
          "base_uri": "https://localhost:8080/"
        },
        "id": "MzeoWUT16683",
        "outputId": "8ff15be9-a4f4-4a14-cb9f-2d307790a0e1"
      },
      "source": [
        "gs_ada = GridSearchCV(AdaBC,param_grid={\"learning_rate\":[0.001,0.01,0.1,1.0,10.0,100.0],\"n_estimators\":[50,100,200,300,500]},cv=5,scoring=\"accuracy\")\n",
        "gs_ada.fit(X_train,Y_train)"
      ],
      "execution_count": null,
      "outputs": [
        {
          "output_type": "execute_result",
          "data": {
            "text/plain": [
              "GridSearchCV(cv=5, error_score=nan,\n",
              "             estimator=AdaBoostClassifier(algorithm='SAMME.R',\n",
              "                                          base_estimator=DecisionTreeClassifier(ccp_alpha=0.0,\n",
              "                                                                                class_weight=None,\n",
              "                                                                                criterion='gini',\n",
              "                                                                                max_depth=10,\n",
              "                                                                                max_features=None,\n",
              "                                                                                max_leaf_nodes=None,\n",
              "                                                                                min_impurity_decrease=0.0,\n",
              "                                                                                min_impurity_split=None,\n",
              "                                                                                min_samples_leaf=1,\n",
              "                                                                                min_samples_split=2,\n",
              "                                                                                min_weight_fraction_leaf=0.0,\n",
              "                                                                                presort='deprecated',\n",
              "                                                                                random_state=None,\n",
              "                                                                                splitter='best'),\n",
              "                                          learning_rate=1.0, n_estimators=100,\n",
              "                                          random_state=None),\n",
              "             iid='deprecated', n_jobs=None,\n",
              "             param_grid={'learning_rate': [0.001, 0.01, 0.1, 1.0, 10.0, 100.0],\n",
              "                         'n_estimators': [50, 100, 200, 300, 500]},\n",
              "             pre_dispatch='2*n_jobs', refit=True, return_train_score=False,\n",
              "             scoring='accuracy', verbose=0)"
            ]
          },
          "metadata": {},
          "execution_count": 176
        }
      ]
    },
    {
      "cell_type": "code",
      "metadata": {
        "colab": {
          "base_uri": "https://localhost:8080/"
        },
        "id": "NDm2bSMm636u",
        "outputId": "8ac226ee-c038-47c3-ca8c-0c02cf8ae1c1"
      },
      "source": [
        "gs_ada.best_params_"
      ],
      "execution_count": null,
      "outputs": [
        {
          "output_type": "execute_result",
          "data": {
            "text/plain": [
              "{'learning_rate': 0.01, 'n_estimators': 500}"
            ]
          },
          "metadata": {},
          "execution_count": 177
        }
      ]
    },
    {
      "cell_type": "code",
      "metadata": {
        "colab": {
          "base_uri": "https://localhost:8080/"
        },
        "id": "zOIjdgaq7blW",
        "outputId": "5adb3fe8-9c34-46b5-9b80-41af7b62971e"
      },
      "source": [
        "gs_ada.best_score_"
      ],
      "execution_count": null,
      "outputs": [
        {
          "output_type": "execute_result",
          "data": {
            "text/plain": [
              "0.7398809523809524"
            ]
          },
          "metadata": {},
          "execution_count": 178
        }
      ]
    },
    {
      "cell_type": "code",
      "metadata": {
        "colab": {
          "base_uri": "https://localhost:8080/"
        },
        "id": "HTXjJ7xQ7Smd",
        "outputId": "18d6f29a-07ad-4917-e3ee-92f44e4bd313"
      },
      "source": [
        "best_ada = gs_ada.best_estimator_\n",
        "best_ada.fit(X_train,Y_train)\n",
        "evaluation(best_ada)"
      ],
      "execution_count": null,
      "outputs": [
        {
          "output_type": "stream",
          "name": "stdout",
          "text": [
            "Accuracy : 0.7540983606557377\n",
            "CM : \n",
            " [[22  2]\n",
            " [13 24]]\n",
            "F1 Score  : 0.7619047619047619\n"
          ]
        }
      ]
    },
    {
      "cell_type": "markdown",
      "metadata": {
        "id": "lrc2fjtN70Su"
      },
      "source": [
        "##$DecisionTree$"
      ]
    },
    {
      "cell_type": "code",
      "metadata": {
        "colab": {
          "base_uri": "https://localhost:8080/"
        },
        "id": "NdRecdhw7aH_",
        "outputId": "6a1a1518-7672-41f2-eb40-09e8db247f75"
      },
      "source": [
        "DTC = DecisionTreeClassifier(max_depth=10)\n",
        "DTC.fit(X_train,Y_train)\n",
        "evaluation(DTC)"
      ],
      "execution_count": null,
      "outputs": [
        {
          "output_type": "stream",
          "name": "stdout",
          "text": [
            "Accuracy : 0.7213114754098361\n",
            "CM : \n",
            " [[22  2]\n",
            " [15 22]]\n",
            "F1 Score  : 0.7213114754098361\n"
          ]
        }
      ]
    },
    {
      "cell_type": "code",
      "metadata": {
        "colab": {
          "base_uri": "https://localhost:8080/"
        },
        "id": "HJrmCv5S8ENH",
        "outputId": "ae8a1ad4-b441-412c-d065-86e802ed734f"
      },
      "source": [
        "gs_dtc = GridSearchCV(DTC,param_grid={\"max_depth\":[50,10,20,30,80,100]},cv=5,scoring=\"accuracy\")\n",
        "gs_dtc.fit(X_train,Y_train)"
      ],
      "execution_count": null,
      "outputs": [
        {
          "output_type": "execute_result",
          "data": {
            "text/plain": [
              "GridSearchCV(cv=5, error_score=nan,\n",
              "             estimator=DecisionTreeClassifier(ccp_alpha=0.0, class_weight=None,\n",
              "                                              criterion='gini', max_depth=10,\n",
              "                                              max_features=None,\n",
              "                                              max_leaf_nodes=None,\n",
              "                                              min_impurity_decrease=0.0,\n",
              "                                              min_impurity_split=None,\n",
              "                                              min_samples_leaf=1,\n",
              "                                              min_samples_split=2,\n",
              "                                              min_weight_fraction_leaf=0.0,\n",
              "                                              presort='deprecated',\n",
              "                                              random_state=None,\n",
              "                                              splitter='best'),\n",
              "             iid='deprecated', n_jobs=None,\n",
              "             param_grid={'max_depth': [50, 10, 20, 30, 80, 100]},\n",
              "             pre_dispatch='2*n_jobs', refit=True, return_train_score=False,\n",
              "             scoring='accuracy', verbose=0)"
            ]
          },
          "metadata": {},
          "execution_count": 181
        }
      ]
    },
    {
      "cell_type": "code",
      "metadata": {
        "id": "E0q4HcIpNpdn"
      },
      "source": [
        ""
      ],
      "execution_count": null,
      "outputs": []
    },
    {
      "cell_type": "code",
      "metadata": {
        "colab": {
          "base_uri": "https://localhost:8080/"
        },
        "id": "Kt21UxuB8ZEQ",
        "outputId": "e0ade954-4664-4832-9f4d-0fa7a877ffb1"
      },
      "source": [
        "best_dtc = gs_dtc.best_estimator_\n",
        "best_dtc.fit(X_train,Y_train)\n",
        "evaluation(best_dtc)"
      ],
      "execution_count": null,
      "outputs": [
        {
          "output_type": "stream",
          "name": "stdout",
          "text": [
            "Accuracy : 0.7377049180327869\n",
            "CM : \n",
            " [[22  2]\n",
            " [14 23]]\n",
            "F1 Score  : 0.7419354838709677\n"
          ]
        }
      ]
    },
    {
      "cell_type": "code",
      "metadata": {
        "id": "glfBkqhL8fXY"
      },
      "source": [
        ""
      ],
      "execution_count": null,
      "outputs": []
    },
    {
      "cell_type": "markdown",
      "metadata": {
        "id": "VO55zXxRNU52"
      },
      "source": [
        "##$Kmeans$"
      ]
    },
    {
      "cell_type": "code",
      "metadata": {
        "colab": {
          "base_uri": "https://localhost:8080/"
        },
        "id": "5GaT206BNbJV",
        "outputId": "82d36b9d-d5dc-44e7-be9f-f74b56efa449"
      },
      "source": [
        "Kmeans = KMeans(n_clusters=2)\n",
        "Kmeans.fit(X_train,Y_train)\n",
        "evaluation(Kmeans) # Accuracy(i.e. score) gives -ve of inertia."
      ],
      "execution_count": null,
      "outputs": [
        {
          "output_type": "stream",
          "name": "stdout",
          "text": [
            "Accuracy : -215380.50675946978\n",
            "CM : \n",
            " [[16  8]\n",
            " [ 8 29]]\n",
            "F1 Score  : 0.7837837837837838\n"
          ]
        }
      ]
    },
    {
      "cell_type": "markdown",
      "metadata": {
        "id": "70fP7Wm5dOvu"
      },
      "source": [
        "##$Gausian$ $Mixture$"
      ]
    },
    {
      "cell_type": "code",
      "metadata": {
        "colab": {
          "base_uri": "https://localhost:8080/"
        },
        "id": "jru_CnTtPtnW",
        "outputId": "f52f2589-723e-4e0d-fe2f-7ddd5b0e1f2c"
      },
      "source": [
        "gmm = GaussianMixture(n_components=2)\n",
        "gmm.fit(X_train,Y_train)\n",
        "evaluation(gmm) # Accuracy(i.e. score) gives -ve of inertia."
      ],
      "execution_count": null,
      "outputs": [
        {
          "output_type": "stream",
          "name": "stdout",
          "text": [
            "Accuracy : -22.074552284843524\n",
            "CM : \n",
            " [[17  7]\n",
            " [24 13]]\n",
            "F1 Score  : 0.456140350877193\n"
          ]
        }
      ]
    },
    {
      "cell_type": "markdown",
      "metadata": {
        "id": "pMLQ5H_8M0RT"
      },
      "source": [
        "#$Cause$\n",
        "---\n",
        "Interesting, no one is able to perform more than 80%\n",
        "\n",
        "----\n",
        "Cause for such a low accuracy :\n",
        "1. $Small$ $Dataset$\n",
        "\n",
        "---"
      ]
    },
    {
      "cell_type": "code",
      "metadata": {
        "colab": {
          "base_uri": "https://localhost:8080/",
          "height": 326
        },
        "id": "_0F3UfTGP5OO",
        "outputId": "5ae7e962-1959-4c6e-c017-14f7c2f51467"
      },
      "source": [
        "def best_model(models,X_test,Y_test,n_):\n",
        "  acc_ = []\n",
        "  for i in models:\n",
        "    acc = i.score(X_test,Y_test)\n",
        "    acc_.append(acc)\n",
        "  plt.bar(n_,acc_,color=\"green\",label=\"Models\")\n",
        "  plt.bar(n_[acc_.index(np.max(acc_))],np.max(acc_),color=\"red\",label=\"Max\")\n",
        "  plt.bar(n_[acc_.index(np.min(acc_))],np.min(acc_),color=\"blue\",label=\"Min\")\n",
        "  plt.title(\"Model Comparision\")\n",
        "  plt.legend()\n",
        "  plt.xticks(rotation=45)\n",
        "  plt.ylabel(\"Accuracy Score\")\n",
        "  plt.show()\n",
        "models = [vector_machine,best_svc,scaled_svc,RFC,best_rfc,AdaBC,best_ada,DTC,best_dtc]\n",
        "best_model(models,X_test,Y_test,n_=[\"SVC\",\"GS_SVC\",\"Scaled_SVC\",\"RFC\",\"GS_RFC\",\"AdaBoost\",\"GS_AdaBoost\",\"DTC\",\"GS_DTC\"])"
      ],
      "execution_count": null,
      "outputs": [
        {
          "output_type": "display_data",
          "data": {
            "image/png": "[encoded data removed]",
            "text/plain": [
              "<Figure size 432x288 with 1 Axes>"
            ]
          },
          "metadata": {
            "needs_background": "light"
          }
        }
      ]
    },
    {
      "cell_type": "markdown",
      "metadata": {
        "id": "P3YZbNl0SZ1U"
      },
      "source": [
        "We can `conclude` that $RFC$ works `best` for this `problem`.\n",
        "\n",
        "----"
      ]
    },
    {
      "cell_type": "code",
      "metadata": {
        "id": "2G8ihTXYdp80"
      },
      "source": [
        ""
      ],
      "execution_count": null,
      "outputs": []
    }
  ]
}
